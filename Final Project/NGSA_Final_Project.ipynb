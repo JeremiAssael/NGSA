{
 "cells": [
  {
   "cell_type": "markdown",
   "metadata": {},
   "source": [
    "# NGSA FINAL PROJECT"
   ]
  },
  {
   "cell_type": "markdown",
   "metadata": {},
   "source": [
    "# Recommendation Systems with Amazon Co-Purchasing Network"
   ]
  },
  {
   "cell_type": "code",
   "execution_count": 1,
   "metadata": {
    "collapsed": true
   },
   "outputs": [],
   "source": [
    "import networkx as nx\n",
    "import matplotlib.pyplot as plt\n",
    "from tqdm import tqdm_notebook as tqdm\n",
    "import itertools\n",
    "import math\n",
    "import pandas as pd\n",
    "import numpy as np\n",
    "import time\n",
    "import re\n",
    "from scipy.sparse.linalg import svds\n",
    "import ast"
   ]
  },
  {
   "cell_type": "markdown",
   "metadata": {},
   "source": [
    "## Parser used for the metadata file"
   ]
  },
  {
   "cell_type": "code",
   "execution_count": 19,
   "metadata": {
    "collapsed": true
   },
   "outputs": [],
   "source": [
    "def split_iter(string):\n",
    "    # Splitting on each product, i.e. b\n",
    "    return (x.group(0) for x in re.finditer(r\":([\\w\\W])*?\\nId\", string))"
   ]
  },
  {
   "cell_type": "code",
   "execution_count": 20,
   "metadata": {
    "collapsed": true
   },
   "outputs": [],
   "source": [
    "def parser(items, start=0, num_items=5000, flat=False):\n",
    "    df = pd.DataFrame(columns=['id','asin','discountinued','title','groupe','salesrank','num_similar',\\\n",
    "                               'similar','num_categories','categories','num_reviews','downloaded_reviews',\\\n",
    "                               'avg_rating','dates','customer_ids','ratings','votes','helpfuls'])\n",
    "    if start == 0:\n",
    "        next(items)\n",
    "    i = start\n",
    "    while i < num_items:\n",
    "        try:\n",
    "            item = next(items).split('\\n')\n",
    "            id,asin = item[:2]\n",
    "            id = id.replace(' ', '')\n",
    "            id = int(id[id.index(':')+1:])\n",
    "            asin = asin.replace(' ', '')\n",
    "            asin = asin[asin.index(':')+1:]\n",
    "            if len(item) == 5 :\n",
    "                df.loc[i] = [None for i in range(len(df.columns))] \n",
    "                df.loc[i]['discountinued'] = True\n",
    "                df.loc[i]['id'] = id\n",
    "                df.loc[i]['asin'] = asin\n",
    "            elif len(item) > 5:\n",
    "                    title,groupe,salesrank,similar,num_categories = item[2:7]\n",
    "                    rest = item[7:]\n",
    "                    title = title[title.index(':')+2:]\n",
    "                    groupe = groupe[groupe.index(':')+2:]\n",
    "                    salesrank = int(salesrank[salesrank.index(':')+2:])\n",
    "                    similar = similar[similar.index(':')+2:].split()\n",
    "                    num_similar = int(similar[0])\n",
    "                    similar = similar[1:]\n",
    "                    num_categories = int(num_categories[num_categories.index(':')+2:])\n",
    "                    j = 0\n",
    "                    l = len(rest)\n",
    "                    categories = []\n",
    "                    reviews = []\n",
    "                    while not 'reviews' in rest[j]:\n",
    "                        categories.append(rest[j])\n",
    "                        j+=1\n",
    "                    s = rest[j][rest[j].index(':')+1:]\n",
    "                    num_reviews,downloaded_reviews,avg_rating = [int(x[0]) for x in s.split(': ')[1:]]\n",
    "                    j +=1\n",
    "                    while j < l:\n",
    "                        if rest !='':\n",
    "                            reviews.append(rest[j])\n",
    "                            j+=1\n",
    "                    dates = []\n",
    "                    customer_ids = []\n",
    "                    ratings = []\n",
    "                    votes = []\n",
    "                    helpfuls = []\n",
    "                    for review in reviews:\n",
    "                        if review not in ['','Id'] :\n",
    "                            parsed = [x for x in review.split(': ')]\n",
    "                            date = parsed[0].replace(' ', '')\n",
    "                            dates.append(date[:date.index('cutomer')])\n",
    "                            customer_ids.append(parsed[1][:parsed[1].index('rating')-1])\n",
    "                            ratings.append(int(parsed[2][:parsed[2].index('votes')-1]))\n",
    "                            votes.append(int(parsed[3][:parsed[3].index('helpful')-1]))\n",
    "                            helpfuls.append(int(parsed[4]))\n",
    "                    if flat:\n",
    "                        k = 0 \n",
    "                        while k < len(customer_ids):\n",
    "                            row = [id,asin,False,title,groupe,salesrank,num_similar,similar,num_categories,categories,\\\n",
    "                                  num_reviews,downloaded_reviews,avg_rating, dates[k], customer_ids[k], ratings[k], votes[k], helpfuls[k]]\n",
    "                            df.loc[i] = row\n",
    "                            i+=1\n",
    "                            k+=1\n",
    "                        if k > 0:\n",
    "                            i -= 1\n",
    "                    else:\n",
    "                        row = [id,asin,False,title,groupe,salesrank,num_similar,similar,num_categories,categories,\\\n",
    "                              num_reviews,downloaded_reviews,avg_rating, dates, customer_ids, ratings, votes, helpfuls]\n",
    "                        df.loc[i] = row\n",
    "                        \n",
    "        except Exception as e:\n",
    "#             print(e)\n",
    "#             print(row)\n",
    "            pass\n",
    "        i+= 1\n",
    "    return df"
   ]
  },
  {
   "cell_type": "code",
   "execution_count": 21,
   "metadata": {
    "collapsed": true
   },
   "outputs": [],
   "source": [
    "text = open('amazon-meta.txt', 'r', encoding='utf-8').read()\n",
    "splited_text = split_iter(text)"
   ]
  },
  {
   "cell_type": "code",
   "execution_count": 22,
   "metadata": {
    "collapsed": true
   },
   "outputs": [],
   "source": [
    "t = time.time()\n",
    "df = pd.DataFrame(columns=['id','asin','discountinued','title','groupe','salesrank','num_similar',\\\n",
    "                               'similar','num_categories','categories','num_reviews','downloaded_reviews',\\\n",
    "                               'avg_rating','dates','customer_ids','ratings','votes','helpfuls'])"
   ]
  },
  {
   "cell_type": "code",
   "execution_count": 23,
   "metadata": {},
   "outputs": [
    {
     "name": "stdout",
     "output_type": "stream",
     "text": [
      "200 \n",
      "34.92643189430237 seconds\n",
      "201 \n",
      "65.73542261123657 seconds\n",
      "202 \n",
      "96.7761504650116 seconds\n",
      "203 \n",
      "125.11287236213684 seconds\n",
      "204 \n",
      "153.46359872817993 seconds\n",
      "205 \n",
      "181.24443769454956 seconds\n",
      "206 \n",
      "208.0992648601532 seconds\n",
      "207 \n",
      "240.68635320663452 seconds\n",
      "208 \n",
      "271.5680193901062 seconds\n",
      "209 \n",
      "300.83380603790283 seconds\n",
      "210 \n",
      "330.1632800102234 seconds\n",
      "211 \n",
      "358.6002130508423 seconds\n",
      "212 \n",
      "387.7361099720001 seconds\n",
      "213 \n",
      "445.17242074012756 seconds\n",
      "214 \n",
      "475.27351903915405 seconds\n",
      "215 \n",
      "503.0527482032776 seconds\n",
      "216 \n",
      "531.4677686691284 seconds\n",
      "217 \n",
      "570.0148651599884 seconds\n",
      "218 \n",
      "599.1394805908203 seconds\n",
      "219 \n",
      "625.8947141170502 seconds\n",
      "220 \n",
      "654.3328297138214 seconds\n",
      "221 \n",
      "682.0468907356262 seconds\n",
      "222 \n",
      "712.5823125839233 seconds\n",
      "223 \n",
      "741.6261582374573 seconds\n",
      "224 \n",
      "769.5530641078949 seconds\n",
      "225 \n",
      "800.1725795269012 seconds\n",
      "226 \n",
      "829.0684106349945 seconds\n",
      "227 \n",
      "856.1780369281769 seconds\n",
      "228 \n",
      "884.8810658454895 seconds\n",
      "229 \n",
      "913.540741443634 seconds\n",
      "230 \n",
      "940.4845697879791 seconds\n",
      "231 \n",
      "970.6825058460236 seconds\n",
      "232 \n",
      "999.9659833908081 seconds\n",
      "233 \n",
      "1028.3805520534515 seconds\n",
      "234 \n",
      "1055.8537380695343 seconds\n",
      "235 \n",
      "1082.4015245437622 seconds\n",
      "236 \n",
      "1110.8710629940033 seconds\n",
      "237 \n",
      "1138.3856370449066 seconds\n",
      "238 \n",
      "1166.9027996063232 seconds\n",
      "239 \n",
      "1196.2416162490845 seconds\n"
     ]
    }
   ],
   "source": [
    "for i in range(200,240):\n",
    "    print('{} '.format(i))\n",
    "    df_parsed = parser(splited_text, flat=True, start = i*5000, num_items=(i+1)*5000)\n",
    "    df = pd.concat([df, df_parsed], axis=0)\n",
    "    print('{} seconds'.format(time.time()-t))"
   ]
  },
  {
   "cell_type": "markdown",
   "metadata": {},
   "source": [
    "## Write the dataframe to the csv"
   ]
  },
  {
   "cell_type": "code",
   "execution_count": 24,
   "metadata": {
    "collapsed": true
   },
   "outputs": [],
   "source": [
    "df.to_csv('amazon-meta_.csv')"
   ]
  },
  {
   "cell_type": "markdown",
   "metadata": {},
   "source": [
    "## Recommendation using communities and motifs"
   ]
  },
  {
   "cell_type": "markdown",
   "metadata": {},
   "source": [
    "#### Reading which products we will work on"
   ]
  },
  {
   "cell_type": "code",
   "execution_count": 25,
   "metadata": {},
   "outputs": [
    {
     "name": "stdout",
     "output_type": "stream",
     "text": [
      "8090\n",
      "8090\n"
     ]
    }
   ],
   "source": [
    "with open('ids_last.txt', 'r') as file:\n",
    "        important_nodes = file.read()\n",
    "    \n",
    "# Let's put the node we will work on in a dictionnary with the value 1\n",
    "important_nodes_dict = {}\n",
    "\n",
    "for node in important_nodes.split(' '):\n",
    "    important_nodes_dict[node[:-1]] = 1\n",
    "    \n",
    "print(len(important_nodes.split(' ')))\n",
    "print(len(important_nodes_dict.keys()))"
   ]
  },
  {
   "cell_type": "markdown",
   "metadata": {},
   "source": [
    "#### Creating the graph"
   ]
  },
  {
   "cell_type": "code",
   "execution_count": 26,
   "metadata": {
    "collapsed": true
   },
   "outputs": [],
   "source": [
    "with open('Amazon0302.txt', 'r') as f:\n",
    "    data = f.read()\n",
    "data = data.split('\\n')\n",
    "\n",
    "# Creation of the Digraph using the data\n",
    "\n",
    "G = nx.DiGraph()\n",
    "\n",
    "for row in range(4, len(data)-1):\n",
    "    dataaa = data[row].split('\\t')\n",
    "    node_1 = dataaa[0]\n",
    "    node_2 = dataaa[1]\n",
    "    \n",
    "    # If both nodes are in the dictionnary, it means that we will work with the edge and\n",
    "    # we add it to the graph\n",
    "    nodes_to_add = 0\n",
    "    nodes_to_add += important_nodes_dict.get(node_1, 0)\n",
    "    nodes_to_add += important_nodes_dict.get(node_2, 0)\n",
    "    \n",
    "    if nodes_to_add == 2:\n",
    "        G.add_edge(node_1, node_2)\n",
    "\n",
    "# nx.draw(G)\n",
    "# plt.show()        "
   ]
  },
  {
   "cell_type": "markdown",
   "metadata": {},
   "source": [
    "#### Detecting Motif 1"
   ]
  },
  {
   "cell_type": "code",
   "execution_count": 27,
   "metadata": {},
   "outputs": [
    {
     "name": "stdout",
     "output_type": "stream",
     "text": [
      "5397\n"
     ]
    },
    {
     "data": {
      "application/vnd.jupyter.widget-view+json": {
       "model_id": "61cff1b5b3c4429da0a366ca7ccf9e96",
       "version_major": 2,
       "version_minor": 0
      },
      "text/plain": [
       "A Jupyter Widget"
      ]
     },
     "metadata": {},
     "output_type": "display_data"
    },
    {
     "name": "stdout",
     "output_type": "stream",
     "text": [
      "\n",
      "3441.0\n"
     ]
    }
   ],
   "source": [
    "motif_1_nodes = []\n",
    "motif_1_edges = []\n",
    "\n",
    "print(len(G.edges))\n",
    "\n",
    "# Detection of the Motif 1 in the Directed graph\n",
    "for edge_1 in tqdm(G.edges):\n",
    "    node_1 = edge_1[0]\n",
    "    node_2 = edge_1[1]\n",
    "    for edge_2 in G.edges:\n",
    "        if edge_2[0] == node_1 and edge_2[1] != node_2:\n",
    "            motif_1_nodes.append([node_1, node_2, edge_2[1]])\n",
    "            motif_1_edges.append([edge_1, edge_2])\n",
    "        if edge_2[1] == node_1 and edge_2[0] != node_2:\n",
    "            motif_1_nodes.append([node_1, node_2, edge_2[0]])\n",
    "            motif_1_edges.append([edge_1, edge_2])\n",
    "            \n",
    "print(len(motif_1_nodes)/2)"
   ]
  },
  {
   "cell_type": "markdown",
   "metadata": {},
   "source": [
    "#### Detecting Motif 3"
   ]
  },
  {
   "cell_type": "code",
   "execution_count": 28,
   "metadata": {},
   "outputs": [
    {
     "data": {
      "application/vnd.jupyter.widget-view+json": {
       "model_id": "a86a92b4e99d44fa8109d2f585d43716",
       "version_major": 2,
       "version_minor": 0
      },
      "text/plain": [
       "A Jupyter Widget"
      ]
     },
     "metadata": {},
     "output_type": "display_data"
    },
    {
     "name": "stdout",
     "output_type": "stream",
     "text": [
      "\n",
      "Examples of Nodes forming a Motif-3\n",
      "[['16', '19', '73'], ['16', '73', '19'], ['19', '16', '73'], ['19', '73', '16'], ['73', '16', '19'], ['73', '19', '16'], ['291', '82', '678'], ['117', '97', '131'], ['117', '131', '97'], ['162', '616', '53']]\n"
     ]
    },
    {
     "data": {
      "image/png": "[encoded data removed]",
      "text/plain": [
       "<Figure size 432x288 with 1 Axes>"
      ]
     },
     "metadata": {},
     "output_type": "display_data"
    },
    {
     "data": {
      "image/png": "[encoded data removed]",
      "text/plain": [
       "<Figure size 432x288 with 1 Axes>"
      ]
     },
     "metadata": {},
     "output_type": "display_data"
    }
   ],
   "source": [
    "motif_3_nodes = []\n",
    "motif_3_edges = []\n",
    "\n",
    "# Detection of the Motif 3 in the Directed graph\n",
    "for edge_1 in tqdm(G.edges()):\n",
    "    node_1 = edge_1[0]\n",
    "    node_2 = edge_1[1]\n",
    "    for edge_2 in G.edges():\n",
    "        if edge_2[0] == node_2 and edge_2[1] == node_1:\n",
    "            for edge_3 in G.edges():\n",
    "                if edge_3[0] == node_1 and edge_3[1] != node_2:\n",
    "                    motif_3_nodes.append([node_1, node_2, edge_3[1]])\n",
    "                    motif_3_edges.append([edge_1, edge_2, edge_3])\n",
    "                        \n",
    "\n",
    "print('Examples of Nodes forming a Motif-3')\n",
    "print(motif_3_nodes[:10])\n",
    "# Let's Display an example of the Motif 3\n",
    "H = G.subgraph(motif_3_nodes[0])\n",
    "nx.draw(H)\n",
    "plt.show()\n",
    "\n",
    "\n",
    "# print(motif_3_edges[0])\n",
    "W = nx.DiGraph()\n",
    "                                                                                            \n",
    "W.add_edge(motif_3_edges[0][0][0], motif_3_edges[0][0][1])\n",
    "W.add_edge(motif_3_edges[0][1][0], motif_3_edges[0][1][1])\n",
    "W.add_edge(motif_3_edges[0][2][0], motif_3_edges[0][2][1])\n",
    "\n",
    "nx.draw(W)  \n",
    "plt.show()"
   ]
  },
  {
   "cell_type": "markdown",
   "metadata": {},
   "source": [
    "#### Detecting Motif 4"
   ]
  },
  {
   "cell_type": "code",
   "execution_count": 29,
   "metadata": {},
   "outputs": [
    {
     "data": {
      "application/vnd.jupyter.widget-view+json": {
       "model_id": "69cd7250e43442dfa445b4df9f2081ea",
       "version_major": 2,
       "version_minor": 0
      },
      "text/plain": [
       "A Jupyter Widget"
      ]
     },
     "metadata": {},
     "output_type": "display_data"
    },
    {
     "name": "stdout",
     "output_type": "stream",
     "text": [
      "\n",
      "11310\n"
     ]
    }
   ],
   "source": [
    "motif_4_nodes = []\n",
    "motif_4_edges = []\n",
    "\n",
    "# Detection of the Motif 4 in the Directed Graph\n",
    "for edge_1 in tqdm(G.edges):\n",
    "    node_1 = edge_1[0]\n",
    "    node_2 = edge_1[1]\n",
    "    for edge_2 in G.edges:\n",
    "        if edge_2[0] == node_2 and edge_2[1] != node_1:\n",
    "            motif_4_nodes.append([node_1, node_2, edge_2[1]])\n",
    "            motif_4_edges.append([edge_1, edge_2])\n",
    "        if edge_2[1] == node_2 and edge_2[0] != node_1:\n",
    "            motif_4_nodes.append([node_1, node_2, edge_2[0]])\n",
    "            motif_4_edges.append([edge_1, edge_2])\n",
    "\n",
    "print(len(motif_4_edges))"
   ]
  },
  {
   "cell_type": "markdown",
   "metadata": {},
   "source": [
    "#### Detecting Motif 10"
   ]
  },
  {
   "cell_type": "code",
   "execution_count": 30,
   "metadata": {},
   "outputs": [
    {
     "data": {
      "application/vnd.jupyter.widget-view+json": {
       "model_id": "d0f2d5a271bf4895a646d16f3a26a3ff",
       "version_major": 2,
       "version_minor": 0
      },
      "text/plain": [
       "A Jupyter Widget"
      ]
     },
     "metadata": {},
     "output_type": "display_data"
    },
    {
     "name": "stdout",
     "output_type": "stream",
     "text": [
      "\n",
      "0\n"
     ]
    }
   ],
   "source": [
    "motif_10_nodes = []\n",
    "motif_10_edges = []\n",
    "\n",
    "# Detection of the Motif 10 in the Directed Graph\n",
    "for edge_1 in tqdm(G.edges):\n",
    "    node_1 = edge_1[0]\n",
    "    node_2 = edge_2[1]\n",
    "    \n",
    "    for edge_2 in G.edges:\n",
    "        if edge_2[0] == node_2 and edge_2[1] == node_1:\n",
    "            \n",
    "            for edge_3 in G.edges:\n",
    "                if edge_3[1] == node_1 and edge_3[0] != node_2:\n",
    "                    \n",
    "                    motif_10_nodes.append([node_1, node_2, edge_3[0]])\n",
    "                    motif_10_edges.append([edgs_1, edge_2, edge_3])\n",
    "\n",
    "print(len(motif_10_nodes))"
   ]
  },
  {
   "cell_type": "markdown",
   "metadata": {},
   "source": [
    "#### Building unDirected Graph in order to detect overlapping communities"
   ]
  },
  {
   "cell_type": "code",
   "execution_count": 31,
   "metadata": {},
   "outputs": [
    {
     "name": "stdout",
     "output_type": "stream",
     "text": [
      "4871\n"
     ]
    }
   ],
   "source": [
    "from networkx.algorithms.community import greedy_modularity_communities\n",
    "\n",
    "with open('Amazon0302.txt', 'r') as f:\n",
    "    data = f.read()\n",
    "data = data.split('\\n')\n",
    "\n",
    "# Creation of the Graph (not directed) to work with the communities algorithms\n",
    "G_u = nx.Graph()\n",
    "\n",
    "for row in range(4, len(data)-1):\n",
    "    dataaa = data[row].split('\\t')\n",
    "    node_1 = dataaa[0]\n",
    "    node_2 = dataaa[1]\n",
    "    \n",
    "    nodes_to_add = 0\n",
    "    nodes_to_add += important_nodes_dict.get(node_1, 0)\n",
    "    nodes_to_add += important_nodes_dict.get(node_2, 0)\n",
    "    \n",
    "    if nodes_to_add == 2:\n",
    "        G_u.add_edge(node_1, node_2)\n",
    "\n",
    "print(len(G_u.nodes))\n",
    "c = list(greedy_modularity_communities(G_u))"
   ]
  },
  {
   "cell_type": "markdown",
   "metadata": {},
   "source": [
    "#### Overlapping Communities Algorithm"
   ]
  },
  {
   "cell_type": "code",
   "execution_count": 32,
   "metadata": {
    "collapsed": true
   },
   "outputs": [],
   "source": [
    "from itertools import combinations\n",
    "\n",
    "\n",
    "# Use of the Clique Percolation Algorithm in order to work on overlapping communities\n",
    "def get_percolated_cliques(G, k):\n",
    "    # G is the graph to work on, k the maximum distance\n",
    "    perc_graph = nx.Graph()\n",
    "    cliques = list(frozenset(c) for c in nx.find_cliques(G) if len(c) >= k)\n",
    "    perc_graph.add_nodes_from(cliques)\n",
    "\n",
    "    # Add an edge in the clique graph for each pair of cliques that percolate\n",
    "    for c1, c2 in combinations(cliques, 2):\n",
    "        if len(c1.intersection(c2)) >= (k - 1):\n",
    "            perc_graph.add_edge(c1, c2)\n",
    "\n",
    "    for component in nx.connected_components(perc_graph):\n",
    "        yield(frozenset.union(*component))"
   ]
  },
  {
   "cell_type": "code",
   "execution_count": 33,
   "metadata": {},
   "outputs": [
    {
     "name": "stdout",
     "output_type": "stream",
     "text": [
      "frozenset({'7108', '16567', '3227', '7109', '7107', '16565'})\n",
      "frozenset({'49348', '49352', '49350'})\n",
      "frozenset({'29820', '3589', '4930', '22904', '4934'})\n",
      "frozenset({'21090', '22901', '22904'})\n",
      "frozenset({'26204', '26203', '38476'})\n",
      "frozenset({'1797', '2050', '5063', '3145', '36044', '20030', '2051'})\n",
      "frozenset({'31447', '30976', '21331'})\n",
      "frozenset({'37901', '13836', '27414'})\n",
      "frozenset({'42400', '42399', '43035'})\n",
      "frozenset({'13615', '15473', '15472', '15471', '14144'})\n",
      "frozenset({'22629', '15187', '16582'})\n",
      "frozenset({'42105', '47126', '47125'})\n",
      "frozenset({'8854', '8857', '6960', '28589'})\n",
      "frozenset({'48155', '48157', '38902'})\n",
      "frozenset({'2368', '4146', '4147'})\n",
      "frozenset({'39827', '16090', '14287'})\n",
      "frozenset({'26262', '26263', '13159'})\n",
      "frozenset({'31075', '51565', '51563'})\n",
      "frozenset({'16974', '20646', '16972', '16971', '20645'})\n",
      "frozenset({'17874', '12044', '15700'})\n",
      "frozenset({'23608', '15450', '29580', '23609'})\n",
      "frozenset({'28239', '35413', '35412', '35411'})\n",
      "frozenset({'55264', '36197', '26611', '34968'})\n",
      "frozenset({'8004', '16035', '8003', '10130', '12926', '10131'})\n",
      "frozenset({'50846', '33860', '13017', '18336', '8925', '22838', '22839'})\n",
      "frozenset({'10795', '17768', '17769', '20967', '17767', '17770', '22136', '20968'})\n",
      "frozenset({'46872', '46874', '46873'})\n",
      "frozenset({'42782', '44037', '44067', '24313'})\n",
      "frozenset({'9477', '7897', '9475'})\n",
      "frozenset({'46624', '51007', '46627'})\n",
      "frozenset({'1143', '2448', '1462'})\n",
      "frozenset({'19244', '34902', '33347'})\n",
      "frozenset({'1648', '426', '1647'})\n",
      "frozenset({'42509', '43665', '50983'})\n",
      "frozenset({'38444', '44092', '44360', '44093'})\n",
      "frozenset({'46022', '42406', '46021'})\n",
      "frozenset({'15382', '23606', '12012', '15383'})\n",
      "frozenset({'8107', '20086', '47743'})\n",
      "frozenset({'42950', '42952', '32050'})\n",
      "frozenset({'19244', '30414', '51129', '19248'})\n",
      "frozenset({'1544', '1614', '899', '701', '1301', '2384'})\n",
      "frozenset({'19479', '35819', '13462'})\n",
      "frozenset({'5973', '16243', '1223'})\n",
      "frozenset({'14156', '30458', '29761'})\n",
      "frozenset({'9098', '8377', '9096'})\n",
      "frozenset({'19155', '3739', '2986'})\n",
      "frozenset({'10802', '3739', '7642'})\n",
      "frozenset({'4736', '8648', '8650', '12398'})\n",
      "frozenset({'5920', '2847', '2848', '1159', '1474'})\n",
      "frozenset({'37883', '31939', '37882', '37881'})\n",
      "frozenset({'8394', '6717', '4441'})\n",
      "frozenset({'1459', '1131', '1460'})\n",
      "frozenset({'55817', '27869', '42487'})\n",
      "frozenset({'16749', '19565', '16751'})\n",
      "frozenset({'17177', '17179', '17178', '18451'})\n",
      "frozenset({'8179', '3508', '4551'})\n",
      "frozenset({'8183', '10635', '25764'})\n",
      "frozenset({'38927', '38929', '39355'})\n",
      "frozenset({'38516', '51634', '50504'})\n",
      "frozenset({'2039', '932', '793', '797', '2040', '5336'})\n",
      "frozenset({'33573', '33575', '36596', '36597'})\n",
      "frozenset({'280', '1527', '677'})\n",
      "frozenset({'13596', '279', '7439', '8109'})\n",
      "frozenset({'4010', '899', '5055', '36985'})\n",
      "frozenset({'37406', '37405', '36095', '37403'})\n",
      "frozenset({'28125', '41225', '41224'})\n",
      "frozenset({'19120', '19123', '27998'})\n",
      "frozenset({'14681', '12096', '12099', '12100', '35878'})\n",
      "frozenset({'37839', '28906', '43152'})\n",
      "frozenset({'16125', '18904', '16126'})\n",
      "frozenset({'24451', '17052', '24454'})\n",
      "frozenset({'38066', '23007', '38067', '44976'})\n",
      "frozenset({'47118', '40368', '40780', '22832'})\n",
      "frozenset({'6794', '4824', '6793'})\n",
      "frozenset({'17496', '13770', '11358'})\n",
      "frozenset({'29796', '16497', '16793', '16496', '3654', '41258'})\n",
      "frozenset({'4482', '4338', '3063', '50783', '4456'})\n",
      "frozenset({'10244', '9034', '9941'})\n",
      "frozenset({'30478', '30479', '18626', '53404', '30481'})\n",
      "frozenset({'42605', '37066', '42606', '23958'})\n",
      "frozenset({'24092', '31035', '32876'})\n",
      "frozenset({'6426', '29174', '24406'})\n",
      "frozenset({'899', '898', '724'})\n",
      "frozenset({'445', '6161', '4014'})\n",
      "frozenset({'27636', '27635', '33923', '27633'})\n",
      "frozenset({'29754', '27429', '11568'})\n",
      "frozenset({'15461', '12603', '12601'})\n",
      "frozenset({'2452', '42500', '337', '1154', '481', '1468'})\n",
      "frozenset({'2740', '533', '3219', '2969', '1231'})\n",
      "frozenset({'19581', '17367', '30173', '19580'})\n",
      "frozenset({'21449', '21447', '36086'})\n",
      "frozenset({'165', '818', '1316', '9737', '617', '167'})\n",
      "frozenset({'29066', '32944', '27981'})\n",
      "frozenset({'32166', '35719', '32168'})\n",
      "frozenset({'19172', '11961', '18313', '32078'})\n",
      "frozenset({'31778', '49431', '31780'})\n",
      "frozenset({'46681', '6323', '6325'})\n",
      "frozenset({'6318', '6320', '6325'})\n",
      "frozenset({'22333', '13615', '22334'})\n",
      "frozenset({'11397', '19800', '94', '4104'})\n",
      "frozenset({'13306', '45756', '45755'})\n",
      "frozenset({'2847', '44646', '8992'})\n",
      "frozenset({'26127', '34327', '47542'})\n",
      "frozenset({'1242', '1245', '1244'})\n",
      "frozenset({'28161', '11634', '28160'})\n",
      "frozenset({'14508', '930', '13313'})\n",
      "frozenset({'46445', '54328', '54327'})\n",
      "frozenset({'4873', '4875', '4876'})\n",
      "frozenset({'27895', '27896', '31989'})\n",
      "frozenset({'31845', '13986', '52332', '49742'})\n",
      "frozenset({'27398', '1774', '1696'})\n",
      "frozenset({'752', '1730', '1729'})\n",
      "frozenset({'49891', '48252', '48253'})\n",
      "frozenset({'53696', '53697', '53'})\n",
      "frozenset({'7493', '162', '616', '53'})\n",
      "frozenset({'21610', '55', '53'})\n",
      "frozenset({'12496', '14800', '11834'})\n",
      "frozenset({'28394', '44159', '44161'})\n",
      "frozenset({'5094', '4270', '5093'})\n",
      "frozenset({'47635', '47634', '41277'})\n",
      "frozenset({'23170', '35176', '35178', '37481', '23171'})\n",
      "frozenset({'32886', '39528', '39527'})\n",
      "frozenset({'21752', '39066', '39065'})\n",
      "frozenset({'39812', '40715', '40714'})\n",
      "frozenset({'40396', '40397', '40395'})\n",
      "frozenset({'10790', '10788', '13037'})\n",
      "frozenset({'768', '1325', '7787'})\n",
      "frozenset({'1452', '54256', '40205', '55341'})\n",
      "frozenset({'42596', '36859', '36862'})\n",
      "frozenset({'1044', '2060', '1813', '1895', '7222', '4835', '975', '17962', '3119'})\n",
      "frozenset({'8827', '11830', '8824'})\n",
      "frozenset({'12801', '12800', '19362', '8245'})\n",
      "frozenset({'27677', '28314', '28311'})\n",
      "frozenset({'2328', '16196', '919'})\n",
      "frozenset({'19', '73', '16'})\n",
      "frozenset({'14137', '15182', '15183', '14140'})\n",
      "frozenset({'8861', '7027', '6902'})\n",
      "frozenset({'49334', '49335', '45890'})\n",
      "frozenset({'36561', '41024', '41022'})\n",
      "frozenset({'9668', '32864', '18558', '9669', '22080', '24061'})\n",
      "frozenset({'46267', '48522', '48523'})\n",
      "frozenset({'44922', '45070', '39499'})\n",
      "frozenset({'37075', '15259', '20141', '15260', '16134'})\n",
      "frozenset({'53378', '27390', '53379', '12580'})\n",
      "frozenset({'55756', '21792', '25530', '21795'})\n",
      "frozenset({'3115', '963', '860'})\n",
      "frozenset({'2560', '31980', '2330'})\n",
      "frozenset({'7913', '1495', '1592', '1590', '3904'})\n",
      "frozenset({'44588', '37343', '8369'})\n",
      "frozenset({'26182', '8381', '28043'})\n",
      "frozenset({'28411', '2051', '18586', '21934', '18589', '35163'})\n",
      "frozenset({'39034', '26204', '38477', '35933'})\n",
      "frozenset({'16012', '16011', '16013', '12546'})\n",
      "frozenset({'10896', '22423', '10897', '10898'})\n",
      "frozenset({'39677', '28347', '35009'})\n",
      "frozenset({'14617', '14618', '8583'})\n",
      "frozenset({'51514', '51516', '52671'})\n",
      "frozenset({'5875', '35504', '9851', '17183'})\n",
      "frozenset({'34343', '13459', '27462'})\n",
      "frozenset({'19303', '19302', '19300'})\n",
      "frozenset({'35573', '21162', '37479'})\n",
      "frozenset({'40155', '40154', '41867', '41868'})\n",
      "frozenset({'30062', '16430', '32016'})\n",
      "frozenset({'5445', '5448', '20315', '2530', '12078', '19175'})\n",
      "frozenset({'16229', '16232', '5243', '20628'})\n",
      "frozenset({'4785', '4784', '5141'})\n",
      "frozenset({'40743', '27708', '42069'})\n",
      "frozenset({'16807', '35571', '20644'})\n",
      "frozenset({'40131', '27467', '27466'})\n",
      "frozenset({'12223', '8581', '19749'})\n",
      "frozenset({'39921', '27304', '39923'})\n",
      "frozenset({'52612', '45068', '44881', '38858', '44882'})\n",
      "frozenset({'43144', '43145', '43146'})\n",
      "frozenset({'21451', '23341', '16708', '19325'})\n",
      "frozenset({'9209', '5186', '9207'})\n",
      "frozenset({'9009', '14304', '9008'})\n",
      "frozenset({'48107', '51409', '34675'})\n",
      "frozenset({'17855', '14676', '17854'})\n",
      "frozenset({'7614', '7612', '8136'})\n",
      "frozenset({'54080', '18555', '18557', '2772'})\n",
      "frozenset({'12734', '12735', '12733', '18128'})\n",
      "frozenset({'5992', '23394', '22938'})\n",
      "frozenset({'1862', '2336', '6489'})\n",
      "frozenset({'46983', '45963', '51714'})\n",
      "frozenset({'18382', '19623', '18384'})\n",
      "frozenset({'44623', '44625', '44624'})\n",
      "frozenset({'50006', '50005', '41443', '50007'})\n",
      "frozenset({'25639', '37210', '24490'})\n",
      "frozenset({'1019', '1090', '1063'})\n",
      "frozenset({'36340', '37408', '41359'})\n",
      "frozenset({'3313', '22433', '19192'})\n",
      "frozenset({'25528', '25527', '26518'})\n",
      "frozenset({'11726', '20022', '9673', '11329'})\n",
      "frozenset({'41047', '41048', '37481'})\n",
      "frozenset({'23981', '30617', '16545'})\n",
      "frozenset({'22214', '20730', '36109'})\n",
      "frozenset({'20690', '27580', '4934'})\n",
      "frozenset({'27728', '27727', '8013', '27725'})\n",
      "frozenset({'38862', '45407', '45406'})\n",
      "frozenset({'6412', '331', '45446'})\n",
      "frozenset({'25781', '33893', '42816'})\n",
      "frozenset({'35625', '25571', '35621', '35623'})\n",
      "frozenset({'4194', '17138', '6714'})\n",
      "frozenset({'20085', '23074', '26463'})\n",
      "frozenset({'14944', '4930', '27507'})\n",
      "frozenset({'1566', '1372', '929'})\n",
      "frozenset({'44571', '26206', '26207'})\n",
      "frozenset({'36415', '45045', '44010'})\n",
      "frozenset({'37542', '9175', '50020'})\n",
      "frozenset({'44609', '52818', '52819'})\n",
      "frozenset({'45359', '47693', '53583'})\n",
      "frozenset({'26335', '15981', '11897', '13812', '15980'})\n",
      "frozenset({'10406', '10404', '12528', '30829'})\n",
      "frozenset({'9586', '8483', '8481'})\n",
      "frozenset({'5593', '3698', '22996', '12808', '5591'})\n",
      "frozenset({'47077', '47076', '47110'})\n",
      "frozenset({'14316', '9176', '14581'})\n",
      "frozenset({'20235', '17090', '19874'})\n",
      "frozenset({'3540', '6103', '3541'})\n",
      "frozenset({'25757', '7276', '9997'})\n",
      "frozenset({'53556', '44606', '44607'})\n",
      "frozenset({'11303', '19392', '7721'})\n",
      "frozenset({'34407', '33936', '40037'})\n",
      "frozenset({'42608', '46025', '46026'})\n",
      "frozenset({'2230', '2298', '2133'})\n",
      "frozenset({'9322', '9323', '6498'})\n",
      "frozenset({'32719', '35204', '37596'})\n",
      "frozenset({'8085', '27329', '38505'})\n",
      "frozenset({'9228', '5373', '9230'})\n",
      "frozenset({'16840', '16841', '21389'})\n",
      "frozenset({'34829', '17653', '34828'})\n",
      "frozenset({'18963', '15542', '20713'})\n",
      "frozenset({'19965', '13355', '19470'})\n",
      "frozenset({'26384', '33516', '26382'})\n",
      "frozenset({'22298', '47413', '55774'})\n",
      "frozenset({'51879', '51877', '47300'})\n",
      "frozenset({'2117', '1090', '1373', '931', '930'})\n",
      "frozenset({'10044', '7694', '4034'})\n",
      "frozenset({'27685', '797', '41517', '41518'})\n",
      "frozenset({'15635', '10410', '15636'})\n",
      "frozenset({'13718', '13717', '15795'})\n",
      "frozenset({'1587', '1586', '1589'})\n",
      "frozenset({'10547', '4164', '9991', '6183'})\n",
      "frozenset({'10139', '15618', '15619'})\n",
      "frozenset({'29896', '40489', '40488'})\n",
      "frozenset({'10349', '11125', '15343'})\n",
      "frozenset({'4788', '11771', '7755'})\n",
      "frozenset({'2211', '3191', '2207'})\n",
      "frozenset({'15021', '15025', '11307'})\n",
      "frozenset({'15313', '10565', '10562'})\n",
      "frozenset({'38545', '18645', '13981'})\n",
      "frozenset({'47252', '17579', '47253'})\n",
      "frozenset({'3529', '25701', '5555'})\n",
      "frozenset({'29468', '29466', '29467'})\n",
      "frozenset({'44663', '30074', '30073'})\n",
      "frozenset({'37637', '37638', '38000', '35921', '41466'})\n",
      "frozenset({'25541', '22403', '26349'})\n",
      "frozenset({'2181', '2318', '2182'})\n",
      "frozenset({'1890', '6495', '6494'})\n",
      "frozenset({'34314', '38966', '38967'})\n",
      "frozenset({'13497', '13496', '13348'})\n",
      "frozenset({'3673', '8812', '6440', '27932', '19183', '21222'})\n",
      "frozenset({'8723', '22359', '16613'})\n",
      "frozenset({'45782', '45783', '45781'})\n",
      "frozenset({'18855', '35541', '19062'})\n",
      "frozenset({'29832', '19114', '19113'})\n",
      "frozenset({'36916', '22577', '22578'})\n",
      "frozenset({'16345', '24973', '10552'})\n",
      "frozenset({'34701', '34700', '45309'})\n",
      "frozenset({'47325', '47324', '47322'})\n",
      "frozenset({'47491', '39746', '5502'})\n",
      "frozenset({'3190', '13521', '6627'})\n",
      "frozenset({'15392', '6129', '6126', '25182'})\n",
      "frozenset({'25815', '25814', '13167'})\n",
      "frozenset({'25819', '13517', '44688'})\n",
      "frozenset({'24333', '1144', '24332'})\n",
      "frozenset({'44138', '44137', '7570'})\n",
      "frozenset({'4584', '5753', '7271'})\n",
      "frozenset({'13250', '7759', '5580'})\n",
      "frozenset({'33795', '33796', '45789'})\n",
      "frozenset({'5667', '3403', '9833'})\n",
      "frozenset({'29588', '45905', '38922'})\n",
      "frozenset({'40471', '28603', '49973'})\n",
      "frozenset({'38947', '40084', '32352'})\n",
      "frozenset({'43191', '45018', '43194', '45015'})\n",
      "frozenset({'12861', '12864', '18765', '12862'})\n",
      "frozenset({'50430', '33108', '50428'})\n",
      "frozenset({'40563', '40560', '46459'})\n",
      "frozenset({'22401', '4099', '12735', '12736', '26934', '16106', '26349', '2145', '2148', '1964'})\n"
     ]
    }
   ],
   "source": [
    "# Get the overlapping communities\n",
    "mygenerator = get_percolated_cliques(G_u, 3)\n",
    "c = 0\n",
    "tt_list = []\n",
    "for i in mygenerator:\n",
    "    print(i)\n",
    "    c += len(i)\n",
    "    tt_list.append(list(i))"
   ]
  },
  {
   "cell_type": "code",
   "execution_count": 34,
   "metadata": {},
   "outputs": [
    {
     "name": "stdout",
     "output_type": "stream",
     "text": [
      "4871\n"
     ]
    }
   ],
   "source": [
    "print(len(G_u.nodes))"
   ]
  },
  {
   "cell_type": "code",
   "execution_count": 35,
   "metadata": {},
   "outputs": [
    {
     "name": "stdout",
     "output_type": "stream",
     "text": [
      "1006\n"
     ]
    }
   ],
   "source": [
    "print(c)"
   ]
  },
  {
   "cell_type": "markdown",
   "metadata": {},
   "source": [
    "#### Test of the Recommendation System"
   ]
  },
  {
   "cell_type": "code",
   "execution_count": 36,
   "metadata": {},
   "outputs": [
    {
     "data": {
      "application/vnd.jupyter.widget-view+json": {
       "model_id": "99e4880d386e4b55bb6f68b3185c5a2b",
       "version_major": 2,
       "version_minor": 0
      },
      "text/plain": [
       "A Jupyter Widget"
      ]
     },
     "metadata": {},
     "output_type": "display_data"
    },
    {
     "name": "stdout",
     "output_type": "stream",
     "text": [
      "\n"
     ]
    }
   ],
   "source": [
    "# Node for which we are looking for recommandation\n",
    "node_to_test = '1468'\n",
    "\n",
    "motif_1_dict = {}\n",
    "motif_total = {}\n",
    "\n",
    "for i in tqdm(motif_1_nodes):\n",
    "    # Count the number of motives the other nodes are involved in, along with the working node\n",
    "    if node_to_test in i:\n",
    "        motif_1_dict[i[0]] = motif_1_dict.get(i[0], 0) + 1\n",
    "        motif_1_dict[i[1]] = motif_1_dict.get(i[1], 0) + 1\n",
    "        motif_1_dict[i[2]] = motif_1_dict.get(i[2], 0) + 1\n",
    "        motif_total[i[0]] = motif_total.get(i[0], 0) + 1\n",
    "        motif_total[i[1]] = motif_total.get(i[1], 0) + 1\n",
    "        motif_total[i[2]] = motif_total.get(i[2], 0) + 1"
   ]
  },
  {
   "cell_type": "code",
   "execution_count": 37,
   "metadata": {},
   "outputs": [
    {
     "name": "stdout",
     "output_type": "stream",
     "text": [
      "{'337': 17, '1154': 23, '1468': 35, '1156': 1, '481': 11, '2452': 17, '42500': 1}\n"
     ]
    }
   ],
   "source": [
    "print(motif_1_dict)"
   ]
  },
  {
   "cell_type": "code",
   "execution_count": 38,
   "metadata": {},
   "outputs": [
    {
     "name": "stdout",
     "output_type": "stream",
     "text": [
      "{'1154': 8, '337': 5, '1468': 11, '481': 3, '2452': 6}\n"
     ]
    }
   ],
   "source": [
    "motif_3_dict = {}\n",
    "\n",
    "for i in motif_3_nodes:\n",
    "    # Same for motif 3\n",
    "    if node_to_test in i:\n",
    "        motif_3_dict[i[0]] = motif_3_dict.get(i[0], 0) + 1\n",
    "        motif_3_dict[i[1]] = motif_3_dict.get(i[1], 0) + 1\n",
    "        motif_3_dict[i[2]] = motif_3_dict.get(i[2], 0) + 1\n",
    "        motif_total[i[0]] = motif_total.get(i[0], 0) + 1\n",
    "        motif_total[i[1]] = motif_total.get(i[1], 0) + 1\n",
    "        motif_total[i[2]] = motif_total.get(i[2], 0) + 1\n",
    "        \n",
    "print(motif_3_dict)"
   ]
  },
  {
   "cell_type": "code",
   "execution_count": 39,
   "metadata": {},
   "outputs": [
    {
     "name": "stdout",
     "output_type": "stream",
     "text": [
      "{'230': 2, '337': 21, '1468': 63, '1154': 23, '481': 31, '2452': 13, '1156': 3, '609': 2, '18360': 2, '27679': 2, '42500': 5, '1206': 2, '2772': 2, '5085': 2, '5851': 2, '7839': 2, '8853': 2, '14583': 2, '24501': 2, '22784': 2, '25341': 2, '28033': 2}\n"
     ]
    }
   ],
   "source": [
    "motif_4_dict = {}\n",
    "\n",
    "for i in motif_4_nodes:\n",
    "    # Same for motif 4\n",
    "    if node_to_test in i:\n",
    "        motif_4_dict[i[0]] = motif_4_dict.get(i[0], 0) + 1\n",
    "        motif_4_dict[i[1]] = motif_4_dict.get(i[1], 0) + 1\n",
    "        motif_4_dict[i[2]] = motif_4_dict.get(i[2], 0) + 1\n",
    "        motif_total[i[0]] = motif_total.get(i[0], 0) + 1\n",
    "        motif_total[i[1]] = motif_total.get(i[1], 0) + 1\n",
    "        motif_total[i[2]] = motif_total.get(i[2], 0) + 1\n",
    "        \n",
    "print(motif_4_dict)"
   ]
  },
  {
   "cell_type": "code",
   "execution_count": 40,
   "metadata": {},
   "outputs": [
    {
     "name": "stdout",
     "output_type": "stream",
     "text": [
      "{}\n"
     ]
    }
   ],
   "source": [
    "motif_10_dict = {}\n",
    "\n",
    "for i in motif_10_nodes:\n",
    "    # Same for motif 10\n",
    "    if node_to_test in i:\n",
    "        motif_10_dict[i[0]] = motif_10_dict.get(i[0], 0) + 1\n",
    "        motif_10_dict[i[1]] = motif_10_dict.get(i[1], 0) + 1\n",
    "        motif_10_dict[i[2]] = motif_10_dict.get(i[2], 0) + 1\n",
    "        motif_total[i[0]] = motif_total.get(i[0], 0) + 1\n",
    "        motif_total[i[1]] = motif_total.get(i[1], 0) + 1\n",
    "        motif_total[i[2]] = motif_total.get(i[2], 0) + 1\n",
    "        \n",
    "print(motif_10_dict)"
   ]
  },
  {
   "cell_type": "code",
   "execution_count": 41,
   "metadata": {},
   "outputs": [
    {
     "name": "stdout",
     "output_type": "stream",
     "text": [
      "{'337': 43, '1154': 54, '1468': 109, '1156': 4, '481': 45, '2452': 36, '42500': 6, '230': 2, '609': 2, '18360': 2, '27679': 2, '1206': 2, '2772': 2, '5085': 2, '5851': 2, '7839': 2, '8853': 2, '14583': 2, '24501': 2, '22784': 2, '25341': 2, '28033': 2}\n"
     ]
    }
   ],
   "source": [
    "print(motif_total)\n",
    "# Get the number of motifs with the working node nodes are involved in"
   ]
  },
  {
   "cell_type": "code",
   "execution_count": 42,
   "metadata": {
    "scrolled": true
   },
   "outputs": [
    {
     "name": "stdout",
     "output_type": "stream",
     "text": [
      "1468 109\n",
      "1154 54\n",
      "481 45\n",
      "337 43\n",
      "2452 36\n",
      "42500 6\n",
      "1156 4\n",
      "230 2\n",
      "609 2\n",
      "18360 2\n",
      "27679 2\n",
      "1206 2\n",
      "2772 2\n",
      "5085 2\n",
      "5851 2\n",
      "7839 2\n",
      "8853 2\n",
      "14583 2\n",
      "24501 2\n",
      "22784 2\n",
      "25341 2\n",
      "28033 2\n"
     ]
    }
   ],
   "source": [
    "# Rank these nodes\n",
    "s = [(k, motif_total[k]) for k in sorted(motif_total, key=motif_total.get, reverse=True)]\n",
    "for k, v in s:\n",
    "    print(k, v)"
   ]
  },
  {
   "cell_type": "markdown",
   "metadata": {},
   "source": [
    "#### Building a Recommendation Function"
   ]
  },
  {
   "cell_type": "code",
   "execution_count": 43,
   "metadata": {},
   "outputs": [
    {
     "name": "stdout",
     "output_type": "stream",
     "text": [
      "Item: 1468    Recommendations: ['1154', '481', '337', '2452']\n",
      "Item: 2051    Recommendations: ['1797', '2050', '3145', '18589']\n",
      "Item: 6714    Recommendations: ['4194', '17138', '768', '181']\n",
      "Item: 8857    Recommendations: ['6960', '8854', '28589', '28590']\n",
      "Item: 8109    Recommendations: ['7439', '13596', '279', '97']\n",
      "Item: 10795    Recommendations: ['17767', '17769', '17768', '17770']\n",
      "Item: 17767    Recommendations: ['10795', '17769', '17768', '20967']\n",
      "Item: 15980    Recommendations: ['15981', '11897', '13812', '26335']\n",
      "Item: 15981    Recommendations: ['15980', '11897', '26335', '13812']\n",
      "Item: 22838    Recommendations: ['13017', '18336', '22839', '8925']\n"
     ]
    }
   ],
   "source": [
    "# Let's work with several nodes\n",
    "\n",
    "def recommendation(nodes_list, n_recommendation):\n",
    "    return_list = []\n",
    "    for node_to_test in nodes_list:\n",
    "\n",
    "        community = []\n",
    "\n",
    "        for i in tt_list:\n",
    "            if node_to_test in i:\n",
    "    #             print('ttlist', i)\n",
    "                community += i\n",
    "\n",
    "        motif_1_dict = {}\n",
    "        motif_total = {}\n",
    "\n",
    "        for i in motif_1_nodes:\n",
    "            if node_to_test in i:\n",
    "                motif_1_dict[i[0]] = motif_1_dict.get(i[0], 0) + 1\n",
    "                motif_1_dict[i[1]] = motif_1_dict.get(i[1], 0) + 1\n",
    "                motif_1_dict[i[2]] = motif_1_dict.get(i[2], 0) + 1\n",
    "                motif_total[i[0]] = motif_total.get(i[0], 0) + 1\n",
    "                motif_total[i[1]] = motif_total.get(i[1], 0) + 1\n",
    "                motif_total[i[2]] = motif_total.get(i[2], 0) + 1\n",
    "\n",
    "        motif_3_dict = {}\n",
    "\n",
    "        for i in motif_3_nodes:\n",
    "            if node_to_test in i:\n",
    "                motif_3_dict[i[0]] = motif_3_dict.get(i[0], 0) + 1\n",
    "                motif_3_dict[i[1]] = motif_3_dict.get(i[1], 0) + 1\n",
    "                motif_3_dict[i[2]] = motif_3_dict.get(i[2], 0) + 1\n",
    "                motif_total[i[0]] = motif_total.get(i[0], 0) + 1\n",
    "                motif_total[i[1]] = motif_total.get(i[1], 0) + 1\n",
    "                motif_total[i[2]] = motif_total.get(i[2], 0) + 1\n",
    "\n",
    "\n",
    "        motif_4_dict = {}\n",
    "\n",
    "        for i in motif_4_nodes:\n",
    "            if node_to_test in i:\n",
    "                motif_4_dict[i[0]] = motif_4_dict.get(i[0], 0) + 1\n",
    "                motif_4_dict[i[1]] = motif_4_dict.get(i[1], 0) + 1\n",
    "                motif_4_dict[i[2]] = motif_4_dict.get(i[2], 0) + 1\n",
    "                motif_total[i[0]] = motif_total.get(i[0], 0) + 1\n",
    "                motif_total[i[1]] = motif_total.get(i[1], 0) + 1\n",
    "                motif_total[i[2]] = motif_total.get(i[2], 0) + 1\n",
    "\n",
    "        motif_10_dict = {}\n",
    "\n",
    "        for i in motif_10_nodes:\n",
    "            if node_to_test in i:\n",
    "                motif_10_dict[i[0]] = motif_10_dict.get(i[0], 0) + 1\n",
    "                motif_10_dict[i[1]] = motif_10_dict.get(i[1], 0) + 1\n",
    "                motif_10_dict[i[2]] = motif_10_dict.get(i[2], 0) + 1\n",
    "                motif_total[i[0]] = motif_total.get(i[0], 0) + 1\n",
    "                motif_total[i[1]] = motif_total.get(i[1], 0) + 1\n",
    "                motif_total[i[2]] = motif_total.get(i[2], 0) + 1\n",
    "\n",
    "        # We add importance if the node is in the same overlapping community\n",
    "        for key in motif_total.keys():\n",
    "            if key in community:\n",
    "                motif_total[key] += 1000\n",
    "\n",
    "        s = [(k, motif_total[k]) for k in sorted(motif_total, key=motif_total.get, reverse=True)]\n",
    "        p = []\n",
    "        for k, v in s:\n",
    "            p += [k]\n",
    "        # Let's prink ranked recommandations\n",
    "        return_list.append((node_to_test, p[1:n_recommendation]))\n",
    "    return return_list\n",
    "        \n",
    "nodes_to_test = ['1468', '2051', '6714', '8857', '8109', '10795', '17767', '15980', '15981', '22838']\n",
    "\n",
    "p = recommendation(nodes_to_test, 5)\n",
    "\n",
    "for i in p:\n",
    "    print('Item:', i[0], '   Recommendations:', i[1])"
   ]
  },
  {
   "cell_type": "markdown",
   "metadata": {
    "collapsed": true
   },
   "source": [
    "## Recommendations using nearest neighbours in a weighted directed graph"
   ]
  },
  {
   "cell_type": "code",
   "execution_count": 44,
   "metadata": {},
   "outputs": [
    {
     "data": {
      "text/html": [
       "<div>\n",
       "<style>\n",
       "    .dataframe thead tr:only-child th {\n",
       "        text-align: right;\n",
       "    }\n",
       "\n",
       "    .dataframe thead th {\n",
       "        text-align: left;\n",
       "    }\n",
       "\n",
       "    .dataframe tbody tr th {\n",
       "        vertical-align: top;\n",
       "    }\n",
       "</style>\n",
       "<table border=\"1\" class=\"dataframe\">\n",
       "  <thead>\n",
       "    <tr style=\"text-align: right;\">\n",
       "      <th></th>\n",
       "      <th>Unnamed: 0</th>\n",
       "      <th>id</th>\n",
       "      <th>asin</th>\n",
       "      <th>discountinued</th>\n",
       "      <th>title</th>\n",
       "      <th>groupe</th>\n",
       "      <th>salesrank</th>\n",
       "      <th>num_similar</th>\n",
       "      <th>similar</th>\n",
       "      <th>num_categories</th>\n",
       "      <th>categories</th>\n",
       "      <th>num_reviews</th>\n",
       "      <th>downloaded_reviews</th>\n",
       "      <th>avg_rating</th>\n",
       "      <th>dates</th>\n",
       "      <th>customer_ids</th>\n",
       "      <th>ratings</th>\n",
       "      <th>votes</th>\n",
       "      <th>helpfuls</th>\n",
       "      <th>helpfulness_ratio</th>\n",
       "    </tr>\n",
       "  </thead>\n",
       "  <tbody>\n",
       "    <tr>\n",
       "      <th>0</th>\n",
       "      <td>4</td>\n",
       "      <td>22317</td>\n",
       "      <td>037325931X</td>\n",
       "      <td>False</td>\n",
       "      <td>Just Say Yes! (Harlequin Temptation, No 831)</td>\n",
       "      <td>Book</td>\n",
       "      <td>1190228.0</td>\n",
       "      <td>0.0</td>\n",
       "      <td>[]</td>\n",
       "      <td>3.0</td>\n",
       "      <td>['   |Books[283155]|Subjects[1000]|Romance[23]...</td>\n",
       "      <td>2.0</td>\n",
       "      <td>2.0</td>\n",
       "      <td>5.0</td>\n",
       "      <td>2001-4-24</td>\n",
       "      <td>A1TCDS9S2NIVPB</td>\n",
       "      <td>5.0</td>\n",
       "      <td>6.0</td>\n",
       "      <td>6.0</td>\n",
       "      <td>1.000000</td>\n",
       "    </tr>\n",
       "    <tr>\n",
       "      <th>1</th>\n",
       "      <td>5</td>\n",
       "      <td>22317</td>\n",
       "      <td>037325931X</td>\n",
       "      <td>False</td>\n",
       "      <td>Just Say Yes! (Harlequin Temptation, No 831)</td>\n",
       "      <td>Book</td>\n",
       "      <td>1190228.0</td>\n",
       "      <td>0.0</td>\n",
       "      <td>[]</td>\n",
       "      <td>3.0</td>\n",
       "      <td>['   |Books[283155]|Subjects[1000]|Romance[23]...</td>\n",
       "      <td>2.0</td>\n",
       "      <td>2.0</td>\n",
       "      <td>5.0</td>\n",
       "      <td>2001-6-14</td>\n",
       "      <td>AY2KLXN42UYV4</td>\n",
       "      <td>5.0</td>\n",
       "      <td>1.0</td>\n",
       "      <td>0.0</td>\n",
       "      <td>0.000000</td>\n",
       "    </tr>\n",
       "    <tr>\n",
       "      <th>2</th>\n",
       "      <td>178</td>\n",
       "      <td>22325</td>\n",
       "      <td>1578590582</td>\n",
       "      <td>False</td>\n",
       "      <td>The Handy Physics Answer Book (Handy Answer Bo...</td>\n",
       "      <td>Book</td>\n",
       "      <td>340384.0</td>\n",
       "      <td>5.0</td>\n",
       "      <td>['1578591406', '1578590175', '0787610348', '15...</td>\n",
       "      <td>2.0</td>\n",
       "      <td>['   |Books[283155]|Subjects[1000]|Science[75]...</td>\n",
       "      <td>9.0</td>\n",
       "      <td>9.0</td>\n",
       "      <td>4.0</td>\n",
       "      <td>1998-12-3</td>\n",
       "      <td>A1I9PPL8QMBK4I</td>\n",
       "      <td>5.0</td>\n",
       "      <td>2.0</td>\n",
       "      <td>1.0</td>\n",
       "      <td>0.500000</td>\n",
       "    </tr>\n",
       "    <tr>\n",
       "      <th>3</th>\n",
       "      <td>179</td>\n",
       "      <td>22325</td>\n",
       "      <td>1578590582</td>\n",
       "      <td>False</td>\n",
       "      <td>The Handy Physics Answer Book (Handy Answer Bo...</td>\n",
       "      <td>Book</td>\n",
       "      <td>340384.0</td>\n",
       "      <td>5.0</td>\n",
       "      <td>['1578591406', '1578590175', '0787610348', '15...</td>\n",
       "      <td>2.0</td>\n",
       "      <td>['   |Books[283155]|Subjects[1000]|Science[75]...</td>\n",
       "      <td>9.0</td>\n",
       "      <td>9.0</td>\n",
       "      <td>4.0</td>\n",
       "      <td>1998-12-23</td>\n",
       "      <td>ATVPDKIKX0DER</td>\n",
       "      <td>5.0</td>\n",
       "      <td>4.0</td>\n",
       "      <td>4.0</td>\n",
       "      <td>1.000000</td>\n",
       "    </tr>\n",
       "    <tr>\n",
       "      <th>4</th>\n",
       "      <td>180</td>\n",
       "      <td>22325</td>\n",
       "      <td>1578590582</td>\n",
       "      <td>False</td>\n",
       "      <td>The Handy Physics Answer Book (Handy Answer Bo...</td>\n",
       "      <td>Book</td>\n",
       "      <td>340384.0</td>\n",
       "      <td>5.0</td>\n",
       "      <td>['1578591406', '1578590175', '0787610348', '15...</td>\n",
       "      <td>2.0</td>\n",
       "      <td>['   |Books[283155]|Subjects[1000]|Science[75]...</td>\n",
       "      <td>9.0</td>\n",
       "      <td>9.0</td>\n",
       "      <td>4.0</td>\n",
       "      <td>1999-2-2</td>\n",
       "      <td>AE2JVMHQPDSHE</td>\n",
       "      <td>5.0</td>\n",
       "      <td>6.0</td>\n",
       "      <td>4.0</td>\n",
       "      <td>0.666667</td>\n",
       "    </tr>\n",
       "  </tbody>\n",
       "</table>\n",
       "</div>"
      ],
      "text/plain": [
       "   Unnamed: 0     id        asin  discountinued  \\\n",
       "0           4  22317  037325931X          False   \n",
       "1           5  22317  037325931X          False   \n",
       "2         178  22325  1578590582          False   \n",
       "3         179  22325  1578590582          False   \n",
       "4         180  22325  1578590582          False   \n",
       "\n",
       "                                               title groupe  salesrank  \\\n",
       "0       Just Say Yes! (Harlequin Temptation, No 831)   Book  1190228.0   \n",
       "1       Just Say Yes! (Harlequin Temptation, No 831)   Book  1190228.0   \n",
       "2  The Handy Physics Answer Book (Handy Answer Bo...   Book   340384.0   \n",
       "3  The Handy Physics Answer Book (Handy Answer Bo...   Book   340384.0   \n",
       "4  The Handy Physics Answer Book (Handy Answer Bo...   Book   340384.0   \n",
       "\n",
       "   num_similar                                            similar  \\\n",
       "0          0.0                                                 []   \n",
       "1          0.0                                                 []   \n",
       "2          5.0  ['1578591406', '1578590175', '0787610348', '15...   \n",
       "3          5.0  ['1578591406', '1578590175', '0787610348', '15...   \n",
       "4          5.0  ['1578591406', '1578590175', '0787610348', '15...   \n",
       "\n",
       "   num_categories                                         categories  \\\n",
       "0             3.0  ['   |Books[283155]|Subjects[1000]|Romance[23]...   \n",
       "1             3.0  ['   |Books[283155]|Subjects[1000]|Romance[23]...   \n",
       "2             2.0  ['   |Books[283155]|Subjects[1000]|Science[75]...   \n",
       "3             2.0  ['   |Books[283155]|Subjects[1000]|Science[75]...   \n",
       "4             2.0  ['   |Books[283155]|Subjects[1000]|Science[75]...   \n",
       "\n",
       "   num_reviews  downloaded_reviews  avg_rating       dates     customer_ids  \\\n",
       "0          2.0                 2.0         5.0   2001-4-24  A1TCDS9S2NIVPB    \n",
       "1          2.0                 2.0         5.0   2001-6-14   AY2KLXN42UYV4    \n",
       "2          9.0                 9.0         4.0   1998-12-3  A1I9PPL8QMBK4I    \n",
       "3          9.0                 9.0         4.0  1998-12-23   ATVPDKIKX0DER    \n",
       "4          9.0                 9.0         4.0    1999-2-2   AE2JVMHQPDSHE    \n",
       "\n",
       "   ratings  votes  helpfuls  helpfulness_ratio  \n",
       "0      5.0    6.0       6.0           1.000000  \n",
       "1      5.0    1.0       0.0           0.000000  \n",
       "2      5.0    2.0       1.0           0.500000  \n",
       "3      5.0    4.0       4.0           1.000000  \n",
       "4      5.0    6.0       4.0           0.666667  "
      ]
     },
     "execution_count": 44,
     "metadata": {},
     "output_type": "execute_result"
    }
   ],
   "source": [
    "df = pd.read_csv('amazon-meta4.csv', header=0)\n",
    "df.drop(labels='Unnamed: 0', axis=1)\n",
    "df['helpfulness_ratio'] = df['helpfuls']/df['votes']\n",
    "df.head()"
   ]
  },
  {
   "cell_type": "markdown",
   "metadata": {},
   "source": [
    "### Reading the graph"
   ]
  },
  {
   "cell_type": "code",
   "execution_count": 45,
   "metadata": {
    "collapsed": true
   },
   "outputs": [],
   "source": [
    "def build_graph(file, df):\n",
    "    \"\"\"Building the graph with only the parsed nodes\"\"\"\n",
    "    important_nodes = list(df['id'].unique())\n",
    "    important_nodes_dict = {}\n",
    "\n",
    "    for node in important_nodes:\n",
    "        important_nodes_dict[str(node)] = 1\n",
    "\n",
    "\n",
    "    with open(file, 'r') as f:\n",
    "        data = f.read()\n",
    "    data = data.split('\\n')\n",
    "\n",
    "    G = nx.DiGraph()\n",
    "\n",
    "    for row in range(4, len(data)-1):\n",
    "        dataaa = data[row].split('\\t')\n",
    "        node_1 = dataaa[0]\n",
    "        node_2 = dataaa[1]\n",
    "\n",
    "        nodes_to_add = 0\n",
    "        nodes_to_add += important_nodes_dict.get(node_1, 0)\n",
    "        nodes_to_add += important_nodes_dict.get(node_2, 0)\n",
    "\n",
    "        if nodes_to_add == 2:\n",
    "            G.add_edge(node_1, node_2)\n",
    "            \n",
    "    return G"
   ]
  },
  {
   "cell_type": "code",
   "execution_count": 46,
   "metadata": {
    "collapsed": true
   },
   "outputs": [],
   "source": [
    "G = build_graph(\"Amazon0302.txt\", df)"
   ]
  },
  {
   "cell_type": "code",
   "execution_count": 47,
   "metadata": {
    "collapsed": true
   },
   "outputs": [],
   "source": [
    "def add_weight(df, graph, model, alpha=0.5):\n",
    "    \"\"\"Add weights to the graph\"\"\"\n",
    "    edge_list = list(G.edges())\n",
    "    \n",
    "    if model == 'multiplicative':\n",
    "        dict_nodes_weight =  dict(zip(df['id'].unique(), np.array((df.groupby('id').mean()['avg_rating'])/5)*np.array(df.groupby('id').mean()['helpfulness_ratio'])))                               \n",
    "    elif model == 'additive':\n",
    "        dict_nodes_weight =  dict(zip(df['id'].unique(), alpha*np.array((df.groupby('id').mean()['avg_rating'])/5) + (1-alpha)*np.array(df.groupby('id').mean()['helpfulness_ratio'])))\n",
    "    else:\n",
    "        print(\"Wrong model\")\n",
    "        \n",
    "    for edge in edge_list:\n",
    "        G.add_weighted_edges_from([(edge[0], edge[1], (1-dict_nodes_weight[int(edge[0])])*(1-dict_nodes_weight[int(edge[1])]))])\n",
    "    \n",
    "    return G"
   ]
  },
  {
   "cell_type": "code",
   "execution_count": 48,
   "metadata": {
    "collapsed": true
   },
   "outputs": [],
   "source": [
    "G = add_weight(df, G, 'additive')"
   ]
  },
  {
   "cell_type": "markdown",
   "metadata": {},
   "source": [
    "### Searching for the nearest neighbors and providing recommendations"
   ]
  },
  {
   "cell_type": "code",
   "execution_count": 49,
   "metadata": {
    "collapsed": true
   },
   "outputs": [],
   "source": [
    "def search_for_k_reco(sample_id, k, G):\n",
    "    \"\"\"Look for k nearest neighbors and provide recommendations\"\"\"\n",
    "    neigh = list(G.neighbors(str(sample_id)))\n",
    "    if len(neigh) > k:\n",
    "        reco = []\n",
    "        for i in range(len(neigh)):\n",
    "            reco.append((neigh[i], round(G.get_edge_data(str(sample_id), neigh[i])['weight'], 6)))\n",
    "            reco = sorted(reco, key=lambda element:-element[1])\n",
    "            reco = reco[0:k]\n",
    "    else:\n",
    "        reco = []\n",
    "        for i in range(len(neigh)):\n",
    "            reco.append((neigh[i], round(G.get_edge_data(str(sample_id), neigh[i])['weight'], 6)))\n",
    "            reco = sorted(reco, key=lambda element:-element[1])\n",
    "       \n",
    "    return reco "
   ]
  },
  {
   "cell_type": "code",
   "execution_count": 50,
   "metadata": {},
   "outputs": [
    {
     "data": {
      "text/html": [
       "<div>\n",
       "<style>\n",
       "    .dataframe thead tr:only-child th {\n",
       "        text-align: right;\n",
       "    }\n",
       "\n",
       "    .dataframe thead th {\n",
       "        text-align: left;\n",
       "    }\n",
       "\n",
       "    .dataframe tbody tr th {\n",
       "        vertical-align: top;\n",
       "    }\n",
       "</style>\n",
       "<table border=\"1\" class=\"dataframe\">\n",
       "  <thead>\n",
       "    <tr style=\"text-align: right;\">\n",
       "      <th></th>\n",
       "      <th>Unnamed: 0</th>\n",
       "      <th>id</th>\n",
       "      <th>asin</th>\n",
       "      <th>discountinued</th>\n",
       "      <th>title</th>\n",
       "      <th>groupe</th>\n",
       "      <th>salesrank</th>\n",
       "      <th>num_similar</th>\n",
       "      <th>similar</th>\n",
       "      <th>num_categories</th>\n",
       "      <th>categories</th>\n",
       "      <th>num_reviews</th>\n",
       "      <th>downloaded_reviews</th>\n",
       "      <th>avg_rating</th>\n",
       "      <th>dates</th>\n",
       "      <th>customer_ids</th>\n",
       "      <th>ratings</th>\n",
       "      <th>votes</th>\n",
       "      <th>helpfuls</th>\n",
       "      <th>helpfulness_ratio</th>\n",
       "    </tr>\n",
       "  </thead>\n",
       "  <tbody>\n",
       "    <tr>\n",
       "      <th>70989</th>\n",
       "      <td>460417</td>\n",
       "      <td>337</td>\n",
       "      <td>0738810991</td>\n",
       "      <td>False</td>\n",
       "      <td>The Face of the River</td>\n",
       "      <td>Book</td>\n",
       "      <td>1892317.0</td>\n",
       "      <td>0.0</td>\n",
       "      <td>[]</td>\n",
       "      <td>2.0</td>\n",
       "      <td>['   |Books[283155]|Subjects[1000]|Mystery &amp; T...</td>\n",
       "      <td>3.0</td>\n",
       "      <td>3.0</td>\n",
       "      <td>5.0</td>\n",
       "      <td>2000-11-21</td>\n",
       "      <td>A3A1X1K7LZI0E0</td>\n",
       "      <td>5.0</td>\n",
       "      <td>0.0</td>\n",
       "      <td>0.0</td>\n",
       "      <td>NaN</td>\n",
       "    </tr>\n",
       "    <tr>\n",
       "      <th>70990</th>\n",
       "      <td>460419</td>\n",
       "      <td>337</td>\n",
       "      <td>0738810991</td>\n",
       "      <td>False</td>\n",
       "      <td>The Face of the River</td>\n",
       "      <td>Book</td>\n",
       "      <td>1892317.0</td>\n",
       "      <td>0.0</td>\n",
       "      <td>[]</td>\n",
       "      <td>2.0</td>\n",
       "      <td>['   |Books[283155]|Subjects[1000]|Mystery &amp; T...</td>\n",
       "      <td>3.0</td>\n",
       "      <td>3.0</td>\n",
       "      <td>5.0</td>\n",
       "      <td>2001-1-7</td>\n",
       "      <td>A3JX2JVQ4V779U</td>\n",
       "      <td>5.0</td>\n",
       "      <td>1.0</td>\n",
       "      <td>0.0</td>\n",
       "      <td>0.0</td>\n",
       "    </tr>\n",
       "  </tbody>\n",
       "</table>\n",
       "</div>"
      ],
      "text/plain": [
       "       Unnamed: 0   id        asin  discountinued                  title  \\\n",
       "70989      460417  337  0738810991          False  The Face of the River   \n",
       "70990      460419  337  0738810991          False  The Face of the River   \n",
       "\n",
       "      groupe  salesrank  num_similar similar  num_categories  \\\n",
       "70989   Book  1892317.0          0.0      []             2.0   \n",
       "70990   Book  1892317.0          0.0      []             2.0   \n",
       "\n",
       "                                              categories  num_reviews  \\\n",
       "70989  ['   |Books[283155]|Subjects[1000]|Mystery & T...          3.0   \n",
       "70990  ['   |Books[283155]|Subjects[1000]|Mystery & T...          3.0   \n",
       "\n",
       "       downloaded_reviews  avg_rating       dates     customer_ids  ratings  \\\n",
       "70989                 3.0         5.0  2000-11-21  A3A1X1K7LZI0E0       5.0   \n",
       "70990                 3.0         5.0    2001-1-7  A3JX2JVQ4V779U       5.0   \n",
       "\n",
       "       votes  helpfuls  helpfulness_ratio  \n",
       "70989    0.0       0.0                NaN  \n",
       "70990    1.0       0.0                0.0  "
      ]
     },
     "execution_count": 50,
     "metadata": {},
     "output_type": "execute_result"
    }
   ],
   "source": [
    "df[df['id']==337]"
   ]
  },
  {
   "cell_type": "markdown",
   "metadata": {},
   "source": [
    "### Print recommandations for these six products"
   ]
  },
  {
   "cell_type": "code",
   "execution_count": 51,
   "metadata": {},
   "outputs": [
    {
     "name": "stdout",
     "output_type": "stream",
     "text": [
      "1468 [('337', 0.088007), ('1154', 0.084534), ('481', 0.071524), ('2452', 0.010767)]\n",
      "2051 [('3146', 0.056395), ('2050', 0.053105), ('3145', 0.012792), ('1797', 0.003757)]\n",
      "6714 [('768', 0.049148), ('181', 0.037034), ('11333', 0.018604), ('11334', 0.004613)]\n",
      "8857 [('8854', 0.102797), ('28590', 0.095802), ('6960', 0.003603), ('28589', 0.0)]\n"
     ]
    }
   ],
   "source": [
    "for node in [1468, 2051, 6714, 8857]:\n",
    "    print(node, search_for_k_reco(node, 10, G))"
   ]
  },
  {
   "cell_type": "markdown",
   "metadata": {},
   "source": [
    "## Recommendation using SVD"
   ]
  },
  {
   "cell_type": "code",
   "execution_count": 2,
   "metadata": {
    "collapsed": true
   },
   "outputs": [],
   "source": [
    "df = pd.read_csv('amazon-meta4.csv')"
   ]
  },
  {
   "cell_type": "code",
   "execution_count": 3,
   "metadata": {
    "collapsed": true
   },
   "outputs": [],
   "source": [
    "df = df.drop(df.columns[0], axis=1)"
   ]
  },
  {
   "cell_type": "code",
   "execution_count": 4,
   "metadata": {
    "collapsed": true
   },
   "outputs": [],
   "source": [
    "df.columns = ['id','asin','discountinued','title','groupe','salesrank','num_similar',\\\n",
    "                               'similar','num_categories','categories','num_reviews','downloaded_reviews',\\\n",
    "                               'avg_rating','dates','customer_id','rating','vote','helpful']"
   ]
  },
  {
   "cell_type": "markdown",
   "metadata": {},
   "source": [
    "## Creating the rating matrix"
   ]
  },
  {
   "cell_type": "code",
   "execution_count": 5,
   "metadata": {
    "collapsed": true
   },
   "outputs": [],
   "source": [
    "ratings = df[['id','customer_id','rating']]\n",
    "ratings.columns = ['item_id', 'customer_id', 'rating']"
   ]
  },
  {
   "cell_type": "code",
   "execution_count": 6,
   "metadata": {
    "collapsed": true
   },
   "outputs": [],
   "source": [
    "ratings = ratings.drop_duplicates(['item_id','customer_id'])"
   ]
  },
  {
   "cell_type": "code",
   "execution_count": 7,
   "metadata": {
    "collapsed": true
   },
   "outputs": [],
   "source": [
    "ratings_sample = ratings.loc[:10000]"
   ]
  },
  {
   "cell_type": "code",
   "execution_count": 8,
   "metadata": {
    "collapsed": true
   },
   "outputs": [],
   "source": [
    "y = ratings_sample.pivot(index = 'customer_id', columns ='item_id', values = 'rating').fillna(0)"
   ]
  },
  {
   "cell_type": "markdown",
   "metadata": {},
   "source": [
    "## Performing SVD"
   ]
  },
  {
   "cell_type": "code",
   "execution_count": 9,
   "metadata": {
    "collapsed": true
   },
   "outputs": [],
   "source": [
    "R = y.values\n",
    "user_ratings_mean = np.mean(R, axis = 1)\n",
    "R_demeaned = R - user_ratings_mean.reshape(-1, 1)"
   ]
  },
  {
   "cell_type": "code",
   "execution_count": 10,
   "metadata": {
    "collapsed": true
   },
   "outputs": [],
   "source": [
    "U, sigma, Vt = svds(R_demeaned, k = 50)"
   ]
  },
  {
   "cell_type": "code",
   "execution_count": 11,
   "metadata": {
    "collapsed": true
   },
   "outputs": [],
   "source": [
    "sigma = np.diag(sigma)"
   ]
  },
  {
   "cell_type": "code",
   "execution_count": 12,
   "metadata": {
    "collapsed": true
   },
   "outputs": [],
   "source": [
    "y_pred = U@sigma@Vt + user_ratings_mean.reshape(-1, 1)"
   ]
  },
  {
   "cell_type": "markdown",
   "metadata": {},
   "source": [
    "## Evaluating the SVD"
   ]
  },
  {
   "cell_type": "code",
   "execution_count": 13,
   "metadata": {},
   "outputs": [
    {
     "name": "stdout",
     "output_type": "stream",
     "text": [
      "0.08102244845103929\n"
     ]
    }
   ],
   "source": [
    "from sklearn.metrics import mean_squared_error\n",
    "import math\n",
    "rms = math.sqrt(mean_squared_error(y_pred, y))\n",
    "print(rms)"
   ]
  },
  {
   "cell_type": "markdown",
   "metadata": {},
   "source": [
    "## Definition of the recommender based on SVD"
   ]
  },
  {
   "cell_type": "code",
   "execution_count": 14,
   "metadata": {
    "collapsed": true
   },
   "outputs": [],
   "source": [
    "def find_similar(n_similar,item_id, similarity_matrix,rating_matrix):\n",
    "    idx = list(rating_matrix.columns).index(item_id)\n",
    "    distances = np.array([np.linalg.norm(similarity_matrix[:,i]-similarity_matrix[:,idx])if i !=idx else np.inf\\\n",
    "               for i in range(similarity_matrix.shape[1]) ])\n",
    "    \n",
    "    return [rating_matrix.columns[i] for i in np.argsort(distances)[:n_similar]]"
   ]
  },
  {
   "cell_type": "markdown",
   "metadata": {},
   "source": [
    "## Definition of the TF-IDF recommender"
   ]
  },
  {
   "cell_type": "code",
   "execution_count": 15,
   "metadata": {
    "collapsed": true
   },
   "outputs": [],
   "source": [
    "from sklearn.feature_extraction.text import TfidfVectorizer\n",
    "\n",
    "def similarity_score(v1, v2):\n",
    "    cos_sim = np.dot(v1, v2.T) / (np.linalg.norm(v1) * np.linalg.norm(v2))\n",
    "    return cos_sim[0,0]"
   ]
  },
  {
   "cell_type": "code",
   "execution_count": 16,
   "metadata": {},
   "outputs": [
    {
     "name": "stderr",
     "output_type": "stream",
     "text": [
      "C:\\Users\\Vincent\\Anaconda3\\lib\\site-packages\\sklearn\\feature_extraction\\text.py:1089: FutureWarning: Conversion of the second argument of issubdtype from `float` to `np.floating` is deprecated. In future, it will be treated as `np.float64 == np.dtype(float).type`.\n",
      "  if hasattr(X, 'dtype') and np.issubdtype(X.dtype, np.float):\n"
     ]
    }
   ],
   "source": [
    "# Preparing the TFIDF vectorizer\n",
    "vectorizer_cat = TfidfVectorizer(stop_words=\"english\")\n",
    "vectorizer_title = TfidfVectorizer(stop_words=\"english\")\n",
    "sample_tf = df.copy()\n",
    "sample_tf = sample_tf.drop_duplicates(subset='title')\n",
    "title_TFIDF = vectorizer_title.fit_transform(sample_tf['title'])"
   ]
  },
  {
   "cell_type": "code",
   "execution_count": 17,
   "metadata": {
    "collapsed": true
   },
   "outputs": [],
   "source": [
    "# Finding all categories\n",
    "cats = []\n",
    "for categories in sample_tf['categories'].values:\n",
    "    cats.append(categories)\n",
    "cats = np.array(cats)"
   ]
  },
  {
   "cell_type": "code",
   "execution_count": 18,
   "metadata": {
    "collapsed": true
   },
   "outputs": [],
   "source": [
    "def tfidf_recommender(item_id, titles,cats):\n",
    "    title = sample_tf[sample_tf['id']==item_id].iloc[0]['title']\n",
    "    print(title)\n",
    "    categ = sample_tf[sample_tf['id']==item_id].iloc[0]['categories']\n",
    "    title_tf = title_TFIDF[np.where(titles==title)[0][0]].todense()\n",
    "    scores = np.nan_to_num(np.array([similarity_score(title_tf,title_TFIDF[i].todense())\\\n",
    "                                     + 0.5 *int(cats[i] == categ)\\\n",
    "                                     if title != titles[i] else -np.inf\\\n",
    "                       for i in range(len(titles))]))\n",
    "    return titles[np.argsort(scores)[-4:] ], cats[np.argsort(scores)[-5:]] == categ"
   ]
  },
  {
   "cell_type": "code",
   "execution_count": 22,
   "metadata": {
    "collapsed": true
   },
   "outputs": [],
   "source": [
    "# items = [1468 ,2051 ,6714 ,8857]\n",
    "items = [22317, 22325, 22330, 22334]\n",
    "titles = sample_tf['title'].unique()"
   ]
  },
  {
   "cell_type": "markdown",
   "metadata": {},
   "source": [
    "## Recommending articles"
   ]
  },
  {
   "cell_type": "code",
   "execution_count": 23,
   "metadata": {},
   "outputs": [
    {
     "name": "stdout",
     "output_type": "stream",
     "text": [
      "22317 [24409, 23357, 22425, 23394]\n",
      "22325 [22974, 23074, 24254, 24141]\n",
      "22330 [23846, 23785, 23412, 22466]\n",
      "22334 [23345, 22852, 22505, 24406]\n"
     ]
    }
   ],
   "source": [
    "for item in items:\n",
    "    print(item, find_similar(4,item,Vt,y))"
   ]
  },
  {
   "cell_type": "code",
   "execution_count": 24,
   "metadata": {},
   "outputs": [
    {
     "name": "stdout",
     "output_type": "stream",
     "text": [
      "Just Say Yes! (Harlequin Temptation, No 831)\n"
     ]
    },
    {
     "name": "stderr",
     "output_type": "stream",
     "text": [
      "C:\\Users\\Vincent\\Anaconda3\\lib\\site-packages\\ipykernel_launcher.py:4: RuntimeWarning: invalid value encountered in true_divide\n",
      "  after removing the cwd from sys.path.\n"
     ]
    },
    {
     "name": "stdout",
     "output_type": "stream",
     "text": [
      "(array(['Mighty Quinns: Conor (The Mighty Quinns) (Harlequin Temptation, No. 847)',\n",
      "       'Tempted In Texas (Single In The City) (Harlequin Temptation, No. 864)',\n",
      "       'Undercover Lovers  (Heat) (Harlequin Temptation, No. 893)',\n",
      "       'Nights Before Christmas (Heat) (Harlequin Temptation, No. 853)'],\n",
      "      dtype=object), array([False,  True,  True,  True,  True]))\n",
      "The Handy Physics Answer Book (Handy Answer Books)\n",
      "(array(['Field Theory : A Modern Primer (Frontiers in Physics Series, Vol 74)',\n",
      "       'The Flying Circus of Physics With Answers',\n",
      "       'Feynman Lectures On Physics (Volume 3)',\n",
      "       'Physics: The Nature of Things'], dtype=object), array([ True,  True,  True,  True,  True]))\n",
      "Ready, Set, Read!: A Start-To-Finish Reading Program Any Parent Can Use\n",
      "(array(['Complete Library Skills Activities Program: Ready-To-Use Lessons for Grades K-6',\n",
      "       'Ready for Reading (First Learning)',\n",
      "       'What a Day for Flying! (Get Ready...Get Set...Read!)',\n",
      "       \"Kwanzaa and Me: A Teacher's Story\"], dtype=object), array([False, False, False, False,  True]))\n",
      "Liberalism Ancient and Modern\n",
      "(array(['World Hypotheses a Study in Evidence',\n",
      "       \"Ayn Rand's Theory of Knowledge\",\n",
      "       'The Moral Problem (Philosophical Theory)',\n",
      "       'Classics of Western Philosophy'], dtype=object), array([ True,  True,  True,  True,  True]))\n"
     ]
    }
   ],
   "source": [
    "for item in items :\n",
    "    print(tfidf_recommender(item, titles,cats))"
   ]
  },
  {
   "cell_type": "markdown",
   "metadata": {},
   "source": [
    "## Looking at a particular example"
   ]
  },
  {
   "cell_type": "code",
   "execution_count": 25,
   "metadata": {},
   "outputs": [
    {
     "name": "stdout",
     "output_type": "stream",
     "text": [
      "Just Say Yes! (Harlequin Temptation, No 831)\n"
     ]
    },
    {
     "name": "stderr",
     "output_type": "stream",
     "text": [
      "C:\\Users\\Vincent\\Anaconda3\\lib\\site-packages\\ipykernel_launcher.py:4: RuntimeWarning: invalid value encountered in true_divide\n",
      "  after removing the cwd from sys.path.\n"
     ]
    },
    {
     "data": {
      "text/plain": [
       "(array(['Mighty Quinns: Conor (The Mighty Quinns) (Harlequin Temptation, No. 847)',\n",
       "        'Tempted In Texas (Single In The City) (Harlequin Temptation, No. 864)',\n",
       "        'Undercover Lovers  (Heat) (Harlequin Temptation, No. 893)',\n",
       "        'Nights Before Christmas (Heat) (Harlequin Temptation, No. 853)'],\n",
       "       dtype=object), array([False,  True,  True,  True,  True]))"
      ]
     },
     "execution_count": 25,
     "metadata": {},
     "output_type": "execute_result"
    }
   ],
   "source": [
    "recommendation = tfidf_recommender(22317,titles,cats)\n",
    "recommendation"
   ]
  },
  {
   "cell_type": "code",
   "execution_count": null,
   "metadata": {
    "collapsed": true
   },
   "outputs": [],
   "source": []
  }
 ],
 "metadata": {
  "kernelspec": {
   "display_name": "Python 3",
   "language": "python",
   "name": "python3"
  },
  "language_info": {
   "codemirror_mode": {
    "name": "ipython",
    "version": 3
   },
   "file_extension": ".py",
   "mimetype": "text/x-python",
   "name": "python",
   "nbconvert_exporter": "python",
   "pygments_lexer": "ipython3",
   "version": "3.6.2"
  }
 },
 "nbformat": 4,
 "nbformat_minor": 2
}
